{
 "cells": [
  {
   "cell_type": "markdown",
   "metadata": {},
   "source": [
    "## The simpliest usage example of py_boost"
   ]
  },
  {
   "cell_type": "markdown",
   "metadata": {},
   "source": [
    "### Installation (if needed)\n",
    "\n",
    "**Note**: replace cupy-cuda110 with your cuda version!!!"
   ]
  },
  {
   "cell_type": "code",
   "execution_count": 1,
   "metadata": {},
   "outputs": [],
   "source": [
    "# !pip install cupy-cuda110 py-boost"
   ]
  },
  {
   "cell_type": "markdown",
   "metadata": {},
   "source": [
    "### Imports"
   ]
  },
  {
   "cell_type": "code",
   "execution_count": 2,
   "metadata": {},
   "outputs": [],
   "source": [
    "import os\n",
    "# Optional: set the device to run\n",
    "os.environ[\"CUDA_DEVICE_ORDER\"] = \"PCI_BUS_ID\"\n",
    "os.environ[\"CUDA_VISIBLE_DEVICES\"] = \"0\"\n",
    "\n",
    "os.makedirs('../data', exist_ok=True)\n",
    "\n",
    "import joblib\n",
    "from sklearn.datasets import make_regression\n",
    "import numpy as np\n",
    "\n",
    "# simple case - just one class is used\n",
    "from py_boost import GradientBoosting, TLPredictor, TLCompiledPredictor\n",
    "from py_boost.cv import CrossValidation"
   ]
  },
  {
   "cell_type": "markdown",
   "metadata": {},
   "source": [
    "### Generation of dummy regression data"
   ]
  },
  {
   "cell_type": "code",
   "execution_count": 3,
   "metadata": {},
   "outputs": [
    {
     "name": "stdout",
     "output_type": "stream",
     "text": [
      "CPU times: user 2.25 s, sys: 1.7 s, total: 3.94 s\n",
      "Wall time: 840 ms\n"
     ]
    }
   ],
   "source": [
    "%%time\n",
    "X, y = make_regression(150000, 100, n_targets=10, random_state=42)\n",
    "X_test, y_test = X[:50000], y[:50000]\n",
    "X, y = X[-50000:], y[-50000:]"
   ]
  },
  {
   "cell_type": "markdown",
   "metadata": {},
   "source": [
    "### Training a GBDT model\n",
    "\n",
    "The only argument required here is a loss function. It, together with the input target shape, determines the task type. The loss function can be passed as a Loss instance or using a string alias:\n",
    "\n",
    "* ***'mse'*** for the regression/multitask regression\n",
    "* ***'msle'*** for the regression/multitask regression\n",
    "* ***'bce'*** for the binary/multilabel classification\n",
    "* ***'crossentropy'*** for the multiclassification\n",
    "\n",
    "Training is simply done by calling the .fit metod. Possible argumentsare the following:\n",
    "\n",
    "* ***'X'*** \n",
    "* ***'y'*** \n",
    "* ***'sample_weight'*** \n",
    "* ***'eval_sets'***  \n",
    "A validation set is passed as a list of dicts with possible keys ['X', 'y', 'sample_weight']. Note: if multiple valid sets are passed, the best model is selected using the last one.\n",
    "\n",
    "#### The example below illustrates how to train a simple regression task."
   ]
  },
  {
   "cell_type": "code",
   "execution_count": 4,
   "metadata": {},
   "outputs": [
    {
     "name": "stdout",
     "output_type": "stream",
     "text": [
      "[13:46:50] Stdout logging level is INFO.\n",
      "[13:46:50] GDBT train starts. Max iter 100, early stopping rounds 100\n",
      "[13:46:50] Iter 0; Sample 0, rmse = 173.68515684801378; \n",
      "[13:46:51] Iter 10; Sample 0, rmse = 133.2329530295129; \n",
      "[13:46:51] Iter 20; Sample 0, rmse = 107.90963556466895; \n",
      "[13:46:51] Iter 30; Sample 0, rmse = 90.084247821124; \n",
      "[13:46:51] Iter 40; Sample 0, rmse = 76.43082690808421; \n",
      "[13:46:51] Iter 50; Sample 0, rmse = 65.55840290366771; \n",
      "[13:46:51] Iter 60; Sample 0, rmse = 56.76828179857891; \n",
      "[13:46:51] Iter 70; Sample 0, rmse = 49.56530732970541; \n",
      "[13:46:51] Iter 80; Sample 0, rmse = 43.58915629705123; \n",
      "[13:46:52] Iter 90; Sample 0, rmse = 38.67230605797685; \n",
      "[13:46:52] Iter 99; Sample 0, rmse = 34.99810538399258; \n",
      "CPU times: user 8.07 s, sys: 843 ms, total: 8.91 s\n",
      "Wall time: 7.07 s\n"
     ]
    },
    {
     "data": {
      "text/plain": [
       "<py_boost.gpu.boosting.GradientBoosting at 0x7f226c682e50>"
      ]
     },
     "execution_count": 4,
     "metadata": {},
     "output_type": "execute_result"
    }
   ],
   "source": [
    "%%time\n",
    "model = GradientBoosting('mse')\n",
    "\n",
    "model.fit(X, y[:, 0], eval_sets=[{'X': X_test, 'y': y_test[:, 0]},])"
   ]
  },
  {
   "cell_type": "markdown",
   "metadata": {},
   "source": [
    "### Traininig a GBDT model in a multiregression case\n",
    "\n",
    "Each of built-in loss functions has its own default metric, so metric definition is optional. \n",
    "If you need to specify the evaluation metric, you can pass a Metric instance or use a string alias.\n",
    "\n",
    "#### Default metrics:\n",
    "\n",
    "* ***'rmse'*** is the default for the ***'mse'*** loss\n",
    "* ***'rmsle'*** is the default for the  ***'msle'*** loss\n",
    "* ***'bce'*** is the default for the ***'bce'*** loss\n",
    "* ***'crossentropy'*** is the default for the ***'crossentropy'*** loss\n",
    "\n",
    "#### Non-default metrics:\n",
    "\n",
    "* ***'r2'*** for the regression/multitask regression\n",
    "* ***'auc'*** for the binary classification\n",
    "* ***'accuracy'*** for any classification task\n",
    "* ***'precision'*** for any classification task\n",
    "* ***'recall'*** for any classification task\n",
    "* ***'f1'*** for any classification task\n",
    "\n",
    "It is possible to specify other common GBDT hyperparameters as shown below.\n",
    "\n",
    "#### The following example demonstrates how to train a model for a multioutput regression task (no extra definition needed to switch the task to multioutput one, you just need to pass a multidimensional target)."
   ]
  },
  {
   "cell_type": "code",
   "execution_count": 5,
   "metadata": {},
   "outputs": [
    {
     "name": "stdout",
     "output_type": "stream",
     "text": [
      "[13:46:52] Stdout logging level is INFO.\n",
      "[13:46:52] GDBT train starts. Max iter 1000, early stopping rounds 200\n",
      "[13:46:52] Iter 0; Sample 0, R2_score = 0.00839443442782406; \n",
      "[13:46:54] Iter 100; Sample 0, R2_score = 0.5168097848746246; \n",
      "[13:46:56] Iter 200; Sample 0, R2_score = 0.724303880811622; \n",
      "[13:46:59] Iter 300; Sample 0, R2_score = 0.8327414123391066; \n",
      "[13:47:01] Iter 400; Sample 0, R2_score = 0.8949407844670823; \n",
      "[13:47:03] Iter 500; Sample 0, R2_score = 0.932041592450705; \n",
      "[13:47:05] Iter 600; Sample 0, R2_score = 0.954701378867479; \n",
      "[13:47:08] Iter 700; Sample 0, R2_score = 0.9687442771860237; \n",
      "[13:47:10] Iter 800; Sample 0, R2_score = 0.9776054193117595; \n",
      "[13:47:12] Iter 900; Sample 0, R2_score = 0.9832915747998822; \n",
      "[13:47:14] Iter 999; Sample 0, R2_score = 0.9869841448112808; \n",
      "CPU times: user 22.2 s, sys: 2.64 s, total: 24.8 s\n",
      "Wall time: 22.7 s\n"
     ]
    },
    {
     "data": {
      "text/plain": [
       "<py_boost.gpu.boosting.GradientBoosting at 0x7f22654c43a0>"
      ]
     },
     "execution_count": 5,
     "metadata": {},
     "output_type": "execute_result"
    }
   ],
   "source": [
    "%%time\n",
    "model = GradientBoosting('mse', 'r2_score',\n",
    "                         ntrees=1000, lr=.01, verbose=100, es=200, lambda_l2=1,\n",
    "                         subsample=.8, colsample=.8, min_data_in_leaf=10, min_gain_to_split=0, \n",
    "                         max_bin=256, max_depth=6)\n",
    "\n",
    "model.fit(X, y, eval_sets=[{'X': X_test, 'y': y_test},])"
   ]
  },
  {
   "cell_type": "markdown",
   "metadata": {},
   "source": [
    "## Inference\n",
    "\n",
    "#### Prediction can be done via calling the .predict method"
   ]
  },
  {
   "cell_type": "code",
   "execution_count": 6,
   "metadata": {},
   "outputs": [
    {
     "name": "stdout",
     "output_type": "stream",
     "text": [
      "CPU times: user 492 ms, sys: 19.9 ms, total: 512 ms\n",
      "Wall time: 511 ms\n"
     ]
    },
    {
     "data": {
      "text/plain": [
       "(50000, 10)"
      ]
     },
     "execution_count": 6,
     "metadata": {},
     "output_type": "execute_result"
    }
   ],
   "source": [
    "%%time\n",
    "preds = model.predict(X_test)\n",
    "\n",
    "preds.shape"
   ]
  },
  {
   "cell_type": "code",
   "execution_count": 7,
   "metadata": {},
   "outputs": [
    {
     "data": {
      "text/plain": [
       "array([[-231.01654  , -140.90642  , -273.48715  , ..., -133.48174  ,\n",
       "        -209.62552  , -227.96652  ],\n",
       "       [-110.47679  , -108.942795 ,  -55.01467  , ..., -125.84514  ,\n",
       "        -113.05262  ,  -17.904222 ],\n",
       "       [ -30.944475 ,  -53.859447 ,  147.24858  , ...,   21.4143   ,\n",
       "         -19.186203 , -204.1296   ],\n",
       "       ...,\n",
       "       [ -78.442665 ,  139.2149   ,   84.7346   , ...,  230.55833  ,\n",
       "          36.89756  ,   18.752386 ],\n",
       "       [  -6.682429 ,  139.4572   ,  245.92271  , ...,  150.75662  ,\n",
       "         173.935    ,  206.14671  ],\n",
       "       [  -2.8269227,   42.224876 ,  172.65169  , ...,   96.963524 ,\n",
       "          29.174818 ,   14.396346 ]], dtype=float32)"
      ]
     },
     "execution_count": 7,
     "metadata": {},
     "output_type": "execute_result"
    }
   ],
   "source": [
    "preds"
   ]
  },
  {
   "cell_type": "markdown",
   "metadata": {},
   "source": [
    "#### Prediction for certan iterations can be done via calling the .predict_staged method"
   ]
  },
  {
   "cell_type": "code",
   "execution_count": 8,
   "metadata": {},
   "outputs": [
    {
     "name": "stdout",
     "output_type": "stream",
     "text": [
      "CPU times: user 31.5 ms, sys: 3.89 ms, total: 35.4 ms\n",
      "Wall time: 34.5 ms\n"
     ]
    },
    {
     "data": {
      "text/plain": [
       "(3, 50000, 10)"
      ]
     },
     "execution_count": 8,
     "metadata": {},
     "output_type": "execute_result"
    }
   ],
   "source": [
    "%%time\n",
    "preds = model.predict_staged(X_test, iterations=[100, 300, 500])\n",
    "\n",
    "preds.shape"
   ]
  },
  {
   "cell_type": "markdown",
   "metadata": {},
   "source": [
    "#### Tree leaves indicies prediction for certan iterations can be done via calling the .predict_leaves method"
   ]
  },
  {
   "cell_type": "code",
   "execution_count": 9,
   "metadata": {},
   "outputs": [
    {
     "name": "stdout",
     "output_type": "stream",
     "text": [
      "CPU times: user 8.73 ms, sys: 8.16 ms, total: 16.9 ms\n",
      "Wall time: 16 ms\n"
     ]
    },
    {
     "data": {
      "text/plain": [
       "(3, 50000, 1)"
      ]
     },
     "execution_count": 9,
     "metadata": {},
     "output_type": "execute_result"
    }
   ],
   "source": [
    "%%time\n",
    "preds = model.predict_leaves(X_test, iterations=[100, 300, 500])\n",
    "\n",
    "preds.shape"
   ]
  },
  {
   "cell_type": "code",
   "execution_count": 10,
   "metadata": {},
   "outputs": [
    {
     "data": {
      "text/plain": [
       "array([[14, 17,  9],\n",
       "       [50, 43, 27],\n",
       "       [32, 43, 55],\n",
       "       ...,\n",
       "       [54, 50,  9],\n",
       "       [30, 43, 19],\n",
       "       [60, 43, 27]], dtype=int32)"
      ]
     },
     "execution_count": 10,
     "metadata": {},
     "output_type": "execute_result"
    }
   ],
   "source": [
    "preds.T[0]"
   ]
  },
  {
   "cell_type": "markdown",
   "metadata": {},
   "source": [
    "#### Feature importances"
   ]
  },
  {
   "cell_type": "code",
   "execution_count": 11,
   "metadata": {},
   "outputs": [
    {
     "data": {
      "text/plain": [
       "array([  33.,   44.,   39.,   51.,   69.,   49., 5690.,   53.,   44.,\n",
       "         64.,   41.,   51.,   49.,   46.,   47., 6074., 5400.,   51.,\n",
       "         46., 5448.,   24.,   35.,   48.,   64.,   49.,   28.,   40.,\n",
       "         47.,   45.,   53.,   54.,   49.,   51.,   44.,   33.,   54.,\n",
       "       5994.,   33.,   46.,   40.,   53.,   48.,   69.,   39.,   52.,\n",
       "         43.,   53.,   35.,   56.,   50.,   55.,   53., 5946.,   44.,\n",
       "         49.,   52.,   60.,   37.,   38.,   37.,   60.,   37.,   37.,\n",
       "         45.,   68.,   48.,   48.,   37.,   49.,   59.,   35.,   45.,\n",
       "         43.,   55.,   57.,   38.,   55.,   43.,   44.,   58.,   49.,\n",
       "         43.,   44.,   47.,   53.,   40., 5528., 3624.,   41., 5803.,\n",
       "         39., 6118.,   43.,   35.,   66.,   47.,   39.,   48.,   46.,\n",
       "         59.], dtype=float32)"
      ]
     },
     "execution_count": 11,
     "metadata": {},
     "output_type": "execute_result"
    }
   ],
   "source": [
    "model.get_feature_importance()"
   ]
  },
  {
   "cell_type": "markdown",
   "metadata": {},
   "source": [
    "#### The trained model can be saved as pickle for inference"
   ]
  },
  {
   "cell_type": "code",
   "execution_count": 12,
   "metadata": {},
   "outputs": [
    {
     "data": {
      "text/plain": [
       "array([[-231.01654  , -140.90642  , -273.48715  , ..., -133.48174  ,\n",
       "        -209.62552  , -227.96652  ],\n",
       "       [-110.47679  , -108.942795 ,  -55.01467  , ..., -125.84514  ,\n",
       "        -113.05262  ,  -17.904222 ],\n",
       "       [ -30.944475 ,  -53.859447 ,  147.24858  , ...,   21.4143   ,\n",
       "         -19.186203 , -204.1296   ],\n",
       "       ...,\n",
       "       [ -78.442665 ,  139.2149   ,   84.7346   , ...,  230.55833  ,\n",
       "          36.89756  ,   18.752386 ],\n",
       "       [  -6.682429 ,  139.4572   ,  245.92271  , ...,  150.75662  ,\n",
       "         173.935    ,  206.14671  ],\n",
       "       [  -2.8269227,   42.224876 ,  172.65169  , ...,   96.963524 ,\n",
       "          29.174818 ,   14.396346 ]], dtype=float32)"
      ]
     },
     "execution_count": 12,
     "metadata": {},
     "output_type": "execute_result"
    }
   ],
   "source": [
    "joblib.dump(model, '../data/temp_model.pkl')\n",
    "\n",
    "new_model = joblib.load('../data/temp_model.pkl')\n",
    "new_model.predict(X_test)"
   ]
  },
  {
   "cell_type": "markdown",
   "metadata": {},
   "source": [
    "### CPU Inference via treelite\n",
    "\n",
    "We can also save model for CPU inference via treelite library. For that purposes please use TL wrappers (both for compiled and built-in inference)"
   ]
  },
  {
   "cell_type": "code",
   "execution_count": 13,
   "metadata": {},
   "outputs": [
    {
     "name": "stderr",
     "output_type": "stream",
     "text": [
      "100%|██████████████████████████████████████████████████████████████████████████████| 1000/1000 [00:06<00:00, 156.89it/s]\n"
     ]
    },
    {
     "name": "stdout",
     "output_type": "stream",
     "text": [
      "CPU times: user 6.33 s, sys: 97.8 ms, total: 6.42 s\n",
      "Wall time: 6.41 s\n"
     ]
    }
   ],
   "source": [
    "%%time\n",
    "tl_model = TLPredictor(model)"
   ]
  },
  {
   "cell_type": "code",
   "execution_count": 14,
   "metadata": {},
   "outputs": [
    {
     "name": "stdout",
     "output_type": "stream",
     "text": [
      "CPU times: user 3.65 s, sys: 22.7 ms, total: 3.67 s\n",
      "Wall time: 967 ms\n"
     ]
    },
    {
     "data": {
      "text/plain": [
       "array([[-231.01654  , -140.9064   , -273.48718  , ..., -133.48172  ,\n",
       "        -209.6255   , -227.96655  ],\n",
       "       [-110.47679  , -108.9428   ,  -55.014668 , ..., -125.84514  ,\n",
       "        -113.05263  ,  -17.904224 ],\n",
       "       [ -30.944464 ,  -53.859463 ,  147.2486   , ...,   21.414305 ,\n",
       "         -19.186205 , -204.1296   ],\n",
       "       ...,\n",
       "       [ -78.44266  ,  139.21492  ,   84.734604 , ...,  230.55836  ,\n",
       "          36.89758  ,   18.752384 ],\n",
       "       [  -6.682427 ,  139.4572   ,  245.9227   , ...,  150.75665  ,\n",
       "         173.935    ,  206.14671  ],\n",
       "       [  -2.8269308,   42.22487  ,  172.65169  , ...,   96.96352  ,\n",
       "          29.174807 ,   14.396349 ]], dtype=float32)"
      ]
     },
     "execution_count": 14,
     "metadata": {},
     "output_type": "execute_result"
    }
   ],
   "source": [
    "%%time\n",
    "tl_model.predict(X_test, nthread=4)"
   ]
  },
  {
   "cell_type": "markdown",
   "metadata": {},
   "source": [
    "Treelite model could be saved to folder for using in the next session"
   ]
  },
  {
   "cell_type": "code",
   "execution_count": 15,
   "metadata": {},
   "outputs": [
    {
     "name": "stdout",
     "output_type": "stream",
     "text": [
      "CPU times: user 12.4 ms, sys: 12.1 ms, total: 24.4 ms\n",
      "Wall time: 23.1 ms\n"
     ]
    }
   ],
   "source": [
    "%%time\n",
    "tl_model.dump('../data/tl_dump', rewrite=True)\n",
    "tl_model = TLPredictor.load('../data/tl_dump')"
   ]
  },
  {
   "cell_type": "code",
   "execution_count": 16,
   "metadata": {},
   "outputs": [
    {
     "name": "stdout",
     "output_type": "stream",
     "text": [
      "CPU times: user 3.6 s, sys: 6.49 ms, total: 3.61 s\n",
      "Wall time: 929 ms\n"
     ]
    },
    {
     "data": {
      "text/plain": [
       "array([[-231.01654  , -140.9064   , -273.48718  , ..., -133.48172  ,\n",
       "        -209.6255   , -227.96655  ],\n",
       "       [-110.47679  , -108.9428   ,  -55.014668 , ..., -125.84514  ,\n",
       "        -113.05263  ,  -17.904224 ],\n",
       "       [ -30.944464 ,  -53.859463 ,  147.2486   , ...,   21.414305 ,\n",
       "         -19.186205 , -204.1296   ],\n",
       "       ...,\n",
       "       [ -78.44266  ,  139.21492  ,   84.734604 , ...,  230.55836  ,\n",
       "          36.89758  ,   18.752384 ],\n",
       "       [  -6.682427 ,  139.4572   ,  245.9227   , ...,  150.75665  ,\n",
       "         173.935    ,  206.14671  ],\n",
       "       [  -2.8269308,   42.22487  ,  172.65169  , ...,   96.96352  ,\n",
       "          29.174807 ,   14.396349 ]], dtype=float32)"
      ]
     },
     "execution_count": 16,
     "metadata": {},
     "output_type": "execute_result"
    }
   ],
   "source": [
    "%%time\n",
    "tl_model.predict(X_test, nthread=4)"
   ]
  },
  {
   "cell_type": "markdown",
   "metadata": {},
   "source": [
    "For better speed up you can compile your model and make inference even more efficient"
   ]
  },
  {
   "cell_type": "code",
   "execution_count": 17,
   "metadata": {},
   "outputs": [
    {
     "name": "stdout",
     "output_type": "stream",
     "text": [
      "[13:47:25] ../src/compiler/ast/split.cc:29: Parallel compilation enabled; member trees will be divided into 28 translation units.\n",
      "CPU times: user 1.33 s, sys: 421 ms, total: 1.75 s\n",
      "Wall time: 1min 22s\n"
     ]
    }
   ],
   "source": [
    "%%time\n",
    "tl_compiled = tl_model.compile('gcc', '../data/templib.so', nthread=4)"
   ]
  },
  {
   "cell_type": "code",
   "execution_count": 18,
   "metadata": {},
   "outputs": [
    {
     "name": "stdout",
     "output_type": "stream",
     "text": [
      "CPU times: user 7.62 s, sys: 242 ms, total: 7.86 s\n",
      "Wall time: 1.98 s\n"
     ]
    },
    {
     "data": {
      "text/plain": [
       "array([[-231.01653  , -140.90643  , -273.4874   , ..., -133.48174  ,\n",
       "        -209.62552  , -227.96649  ],\n",
       "       [-110.47675  , -108.9429   ,  -55.014687 , ..., -125.84509  ,\n",
       "        -113.05263  ,  -17.904226 ],\n",
       "       [ -30.944471 ,  -53.85942  ,  147.24878  , ...,   21.414314 ,\n",
       "         -19.186174 , -204.12958  ],\n",
       "       ...,\n",
       "       [ -78.4427   ,  139.21492  ,   84.73472  , ...,  230.55849  ,\n",
       "          36.89757  ,   18.752378 ],\n",
       "       [  -6.6824355,  139.45705  ,  245.92262  , ...,  150.75633  ,\n",
       "         173.93489  ,  206.14703  ],\n",
       "       [  -2.8269129,   42.224827 ,  172.65163  , ...,   96.96337  ,\n",
       "          29.174755 ,   14.396325 ]], dtype=float32)"
      ]
     },
     "execution_count": 18,
     "metadata": {},
     "output_type": "execute_result"
    }
   ],
   "source": [
    "%%time\n",
    "tl_compiled.predict(X_test)"
   ]
  },
  {
   "cell_type": "markdown",
   "metadata": {},
   "source": [
    "Compiled model could also be saved, but note - instanse will save only the metadata. After loading, it expect to find compiled library path stay the same. Otherwise, you can update the library path via .set_libpath method"
   ]
  },
  {
   "cell_type": "code",
   "execution_count": 19,
   "metadata": {},
   "outputs": [
    {
     "name": "stdout",
     "output_type": "stream",
     "text": [
      "CPU times: user 407 ms, sys: 381 ms, total: 789 ms\n",
      "Wall time: 333 ms\n"
     ]
    }
   ],
   "source": [
    "%%time\n",
    "tl_compiled.dump('../data/tl_compiled.pkl')\n",
    "tl_compiled = TLCompiledPredictor.load('../data/tl_compiled.pkl')\n",
    "# optional - if libpath changed or if you want to change nthreads\n",
    "tl_compiled.set_libpath(nthread=1)"
   ]
  },
  {
   "cell_type": "code",
   "execution_count": 20,
   "metadata": {},
   "outputs": [
    {
     "name": "stdout",
     "output_type": "stream",
     "text": [
      "CPU times: user 7.62 s, sys: 35.2 ms, total: 7.66 s\n",
      "Wall time: 7.65 s\n"
     ]
    },
    {
     "data": {
      "text/plain": [
       "array([[-231.01653  , -140.90643  , -273.4874   , ..., -133.48174  ,\n",
       "        -209.62552  , -227.96649  ],\n",
       "       [-110.47675  , -108.9429   ,  -55.014687 , ..., -125.84509  ,\n",
       "        -113.05263  ,  -17.904226 ],\n",
       "       [ -30.944471 ,  -53.85942  ,  147.24878  , ...,   21.414314 ,\n",
       "         -19.186174 , -204.12958  ],\n",
       "       ...,\n",
       "       [ -78.4427   ,  139.21492  ,   84.73472  , ...,  230.55849  ,\n",
       "          36.89757  ,   18.752378 ],\n",
       "       [  -6.6824355,  139.45705  ,  245.92262  , ...,  150.75633  ,\n",
       "         173.93489  ,  206.14703  ],\n",
       "       [  -2.8269129,   42.224827 ,  172.65163  , ...,   96.96337  ,\n",
       "          29.174755 ,   14.396325 ]], dtype=float32)"
      ]
     },
     "execution_count": 20,
     "metadata": {},
     "output_type": "execute_result"
    }
   ],
   "source": [
    "%%time\n",
    "tl_compiled.predict(X_test)"
   ]
  },
  {
   "cell_type": "markdown",
   "metadata": {},
   "source": [
    "### Cross Validation\n",
    "\n",
    "Also py_boost supports built in cross validation wrapper that produce out-of-fold prediction"
   ]
  },
  {
   "cell_type": "code",
   "execution_count": 21,
   "metadata": {},
   "outputs": [
    {
     "name": "stdout",
     "output_type": "stream",
     "text": [
      "[13:48:57] Stdout logging level is INFO.\n",
      "[13:48:57] GDBT train starts. Max iter 100, early stopping rounds 100\n",
      "[13:48:57] Iter 0; Sample 0, rmse = 175.91900028751053; \n",
      "[13:48:58] Iter 10; Sample 0, rmse = 144.86752139166103; \n",
      "[13:48:58] Iter 20; Sample 0, rmse = 123.02825623032723; \n",
      "[13:48:58] Iter 30; Sample 0, rmse = 106.3482861664181; \n",
      "[13:48:58] Iter 40; Sample 0, rmse = 93.17366772305697; \n",
      "[13:48:59] Iter 50; Sample 0, rmse = 82.30149701624404; \n",
      "[13:48:59] Iter 60; Sample 0, rmse = 73.16025141008643; \n",
      "[13:48:59] Iter 70; Sample 0, rmse = 65.31353463481472; \n",
      "[13:48:59] Iter 80; Sample 0, rmse = 58.64621885613945; \n",
      "[13:49:00] Iter 90; Sample 0, rmse = 52.96590318099443; \n",
      "[13:49:00] Iter 99; Sample 0, rmse = 48.44187587193623; \n",
      "[13:49:00] Stdout logging level is INFO.\n",
      "[13:49:00] GDBT train starts. Max iter 100, early stopping rounds 100\n",
      "[13:49:00] Iter 0; Sample 0, rmse = 175.84208721886034; \n",
      "[13:49:00] Iter 10; Sample 0, rmse = 144.8819560235163; \n",
      "[13:49:00] Iter 20; Sample 0, rmse = 123.00626922907999; \n",
      "[13:49:01] Iter 30; Sample 0, rmse = 106.31692131838452; \n",
      "[13:49:01] Iter 40; Sample 0, rmse = 93.06595969064053; \n",
      "[13:49:01] Iter 50; Sample 0, rmse = 82.11285600620903; \n",
      "[13:49:01] Iter 60; Sample 0, rmse = 72.97494015559202; \n",
      "[13:49:01] Iter 70; Sample 0, rmse = 65.14256229122911; \n",
      "[13:49:02] Iter 80; Sample 0, rmse = 58.532729944238284; \n",
      "[13:49:02] Iter 90; Sample 0, rmse = 52.84878912128605; \n",
      "[13:49:02] Iter 99; Sample 0, rmse = 48.396710419002865; \n",
      "[13:49:02] Stdout logging level is INFO.\n",
      "[13:49:02] GDBT train starts. Max iter 100, early stopping rounds 100\n",
      "[13:49:02] Iter 0; Sample 0, rmse = 176.30008395450358; \n",
      "[13:49:03] Iter 10; Sample 0, rmse = 144.8944424144117; \n",
      "[13:49:03] Iter 20; Sample 0, rmse = 123.06570776676844; \n",
      "[13:49:03] Iter 30; Sample 0, rmse = 106.57512955007545; \n",
      "[13:49:03] Iter 40; Sample 0, rmse = 93.49966507752296; \n",
      "[13:49:03] Iter 50; Sample 0, rmse = 82.66469606468402; \n",
      "[13:49:04] Iter 60; Sample 0, rmse = 73.45419391388005; \n",
      "[13:49:04] Iter 70; Sample 0, rmse = 65.77064178384852; \n",
      "[13:49:04] Iter 80; Sample 0, rmse = 59.15866179060764; \n",
      "[13:49:04] Iter 90; Sample 0, rmse = 53.49959392054996; \n",
      "[13:49:05] Iter 99; Sample 0, rmse = 49.03174887445352; \n",
      "[13:49:05] Stdout logging level is INFO.\n",
      "[13:49:05] GDBT train starts. Max iter 100, early stopping rounds 100\n",
      "[13:49:05] Iter 0; Sample 0, rmse = 176.56865115184166; \n",
      "[13:49:05] Iter 10; Sample 0, rmse = 145.33622209338012; \n",
      "[13:49:05] Iter 20; Sample 0, rmse = 123.60785786700943; \n",
      "[13:49:05] Iter 30; Sample 0, rmse = 106.97435544073217; \n",
      "[13:49:06] Iter 40; Sample 0, rmse = 93.84075565210968; \n",
      "[13:49:06] Iter 50; Sample 0, rmse = 82.91835362136545; \n",
      "[13:49:06] Iter 60; Sample 0, rmse = 73.73463109387119; \n",
      "[13:49:06] Iter 70; Sample 0, rmse = 65.94244731146775; \n",
      "[13:49:07] Iter 80; Sample 0, rmse = 59.303388160047994; \n",
      "[13:49:07] Iter 90; Sample 0, rmse = 53.556210936354795; \n",
      "[13:49:07] Iter 99; Sample 0, rmse = 49.10569938264227; \n",
      "[13:49:07] Stdout logging level is INFO.\n",
      "[13:49:07] GDBT train starts. Max iter 100, early stopping rounds 100\n",
      "[13:49:07] Iter 0; Sample 0, rmse = 175.5922584314978; \n",
      "[13:49:07] Iter 10; Sample 0, rmse = 144.59840243910693; \n",
      "[13:49:08] Iter 20; Sample 0, rmse = 122.82381243099064; \n",
      "[13:49:08] Iter 30; Sample 0, rmse = 106.38839354375396; \n",
      "[13:49:08] Iter 40; Sample 0, rmse = 93.3182260273604; \n",
      "[13:49:08] Iter 50; Sample 0, rmse = 82.55328289540554; \n",
      "[13:49:09] Iter 60; Sample 0, rmse = 73.3441617370295; \n",
      "[13:49:09] Iter 70; Sample 0, rmse = 65.63555027744722; \n",
      "[13:49:09] Iter 80; Sample 0, rmse = 58.97547236809952; \n",
      "[13:49:09] Iter 90; Sample 0, rmse = 53.289752429050914; \n",
      "[13:49:10] Iter 99; Sample 0, rmse = 48.80625919538879; \n",
      "CPU times: user 12.4 s, sys: 1.65 s, total: 14 s\n",
      "Wall time: 12.7 s\n"
     ]
    },
    {
     "data": {
      "text/plain": [
       "47.2855939592917"
      ]
     },
     "execution_count": 21,
     "metadata": {},
     "output_type": "execute_result"
    }
   ],
   "source": [
    "%%time\n",
    "model = GradientBoosting('mse')\n",
    "cv = CrossValidation(model)\n",
    "\n",
    "oof_pred = cv.fit_predict(X, y, cv=5)\n",
    "\n",
    "pred = cv.predict(X_test)\n",
    "((pred - y_test) ** 2).mean() ** .5"
   ]
  }
 ],
 "metadata": {
  "kernelspec": {
   "display_name": "rapids-22.06",
   "language": "python",
   "name": "rapids-22.06"
  },
  "language_info": {
   "codemirror_mode": {
    "name": "ipython",
    "version": 3
   },
   "file_extension": ".py",
   "mimetype": "text/x-python",
   "name": "python",
   "nbconvert_exporter": "python",
   "pygments_lexer": "ipython3",
   "version": "3.9.13"
  }
 },
 "nbformat": 4,
 "nbformat_minor": 2
}
